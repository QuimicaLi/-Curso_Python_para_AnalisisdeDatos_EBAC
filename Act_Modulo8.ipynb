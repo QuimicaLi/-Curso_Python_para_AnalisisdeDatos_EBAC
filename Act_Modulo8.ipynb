{
 "cells": [
  {
   "cell_type": "markdown",
   "id": "fbd0e6b4",
   "metadata": {},
   "source": [
    "## Modulo 8: Numpy"
   ]
  },
  {
   "cell_type": "markdown",
   "id": "4bf6bcec",
   "metadata": {},
   "source": [
    "1. Escribe un programa que mediante indexacion en Numpy sea capaz de invertir un arreglo (que el primer elemento se convierta al primero."
   ]
  },
  {
   "cell_type": "code",
   "execution_count": 2,
   "id": "4497c4f7",
   "metadata": {},
   "outputs": [
    {
     "name": "stdout",
     "output_type": "stream",
     "text": [
      "[5 4 3 2 1]\n"
     ]
    }
   ],
   "source": [
    "import numpy as np\n",
    "\n",
    "arr = np.array([1, 2, 3, 4, 5])\n",
    "arr_inv = arr[::-1]\n",
    "print(arr_inv)"
   ]
  },
  {
   "cell_type": "markdown",
   "id": "5933e258",
   "metadata": {},
   "source": [
    "2. Escribe un programa con Numpy para convertir valores de grados Fahrenheit a grados centigrados. Los valores se almacenan en un arreglo de salida."
   ]
  },
  {
   "cell_type": "code",
   "execution_count": 6,
   "id": "59d6a637",
   "metadata": {},
   "outputs": [
    {
     "name": "stdout",
     "output_type": "stream",
     "text": [
      "Temperaturas en grados Fahrenheit: [ 0.   12.   45.21 34.   99.91 32.  ]\n",
      "Temperaturas en grados centígrados: [-17.8 -11.1   7.3   1.1  37.7   0. ]\n"
     ]
    }
   ],
   "source": [
    "fahrenheit = np.array([0, 12, 45.21, 34, 99.91,32])\n",
    "centigrados = np.round((fahrenheit - 32) * 5/9, decimals=1)\n",
    "print(\"Temperaturas en grados Fahrenheit:\", fahrenheit)\n",
    "print(\"Temperaturas en grados centígrados:\", centigrados)"
   ]
  },
  {
   "cell_type": "markdown",
   "id": "ea3ca66c",
   "metadata": {},
   "source": [
    "3. Escribe un programa con Numpy para encontrar la unión de dos arreglos. La unión debe devolver un arreglo ordenado de valores que están en cualquiera de los dos arreglos de entrada (sin repetición), array1:0,10,20 y array2:20,10,30"
   ]
  },
  {
   "cell_type": "code",
   "execution_count": 7,
   "id": "cdebc728",
   "metadata": {},
   "outputs": [
    {
     "name": "stdout",
     "output_type": "stream",
     "text": [
      "Unión de los dos arreglos: [ 0 10 20 30]\n"
     ]
    }
   ],
   "source": [
    "array1 = np.array([0, 10, 20])\n",
    "array2 = np.array([20, 10, 30])\n",
    "union = np.union1d(array1, array2)\n",
    "print(\"Unión de los dos arreglos:\", union)"
   ]
  }
 ],
 "metadata": {
  "kernelspec": {
   "display_name": "Python 3 (ipykernel)",
   "language": "python",
   "name": "python3"
  },
  "language_info": {
   "codemirror_mode": {
    "name": "ipython",
    "version": 3
   },
   "file_extension": ".py",
   "mimetype": "text/x-python",
   "name": "python",
   "nbconvert_exporter": "python",
   "pygments_lexer": "ipython3",
   "version": "3.10.9"
  }
 },
 "nbformat": 4,
 "nbformat_minor": 5
}
