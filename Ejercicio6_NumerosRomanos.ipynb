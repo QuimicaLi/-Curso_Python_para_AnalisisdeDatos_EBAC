{
 "cells": [
  {
   "cell_type": "code",
   "execution_count": 20,
   "id": "6cd3df74",
   "metadata": {},
   "outputs": [
    {
     "name": "stdout",
     "output_type": "stream",
     "text": [
      "3996\n"
     ]
    }
   ],
   "source": [
    "##Escribe una clase de python denomida \"Conversion\" que permita la conversion de un numero romano a un numero entero \n",
    "##a traves de un metodo llamado \"romano_entero\"\n",
    "\n",
    "\n",
    "## Consideraciones a tomar en cuenta: \n",
    "## sumar los valores si en la izquierda hay un dígito mayor que a la derecha, como VI.\n",
    "## restar si el valor de la izquierda es menor que el de la derecha, como el número romano IX.\n",
    "\n",
    "class Conversion:\n",
    "    def __init__(self, numero_romano):\n",
    "         # Crear un diccionario para almacenar los valores de cada símbolo romano\n",
    "        self.numero_romano = numero_romano.upper()\n",
    "        self.valores_romanos = {'I': 1, 'V': 5, 'X': 10, 'L': 50, 'C': 100, 'D': 500, 'M': 1000}\n",
    "        \n",
    "    def romano_entero(self):\n",
    "        total = 0\n",
    "        anterior = 0\n",
    "        # Recorrer el número romano de derecha a izquierda\n",
    "        for letra in self.numero_romano[::-1]:\n",
    "            valor = self.valores_romanos[letra]\n",
    "            # Restar el valor del símbolo anterior si es menor que el actual\n",
    "            if valor < anterior:\n",
    "                total -= valor\n",
    "             # Sumar el valor del símbolo actual si es mayor o igual que el anterior\n",
    "            else:\n",
    "                total += valor\n",
    "            anterior = valor\n",
    "        \n",
    "        return total\n",
    "    \n",
    "# Crear un objeto de la clase Conversion\n",
    "numero = Conversion('MMMCMLXXXXVI')\n",
    "print(numero.romano_entero())"
   ]
  }
 ],
 "metadata": {
  "kernelspec": {
   "display_name": "Python 3 (ipykernel)",
   "language": "python",
   "name": "python3"
  },
  "language_info": {
   "codemirror_mode": {
    "name": "ipython",
    "version": 3
   },
   "file_extension": ".py",
   "mimetype": "text/x-python",
   "name": "python",
   "nbconvert_exporter": "python",
   "pygments_lexer": "ipython3",
   "version": "3.9.13"
  }
 },
 "nbformat": 4,
 "nbformat_minor": 5
}
