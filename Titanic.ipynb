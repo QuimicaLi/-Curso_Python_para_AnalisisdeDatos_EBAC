{
 "cells": [
  {
   "cell_type": "markdown",
   "id": "457a8859",
   "metadata": {},
   "source": [
    "## Titanic"
   ]
  },
  {
   "cell_type": "code",
   "execution_count": 42,
   "id": "318fb93f",
   "metadata": {},
   "outputs": [
    {
     "data": {
      "text/html": [
       "<div>\n",
       "<style scoped>\n",
       "    .dataframe tbody tr th:only-of-type {\n",
       "        vertical-align: middle;\n",
       "    }\n",
       "\n",
       "    .dataframe tbody tr th {\n",
       "        vertical-align: top;\n",
       "    }\n",
       "\n",
       "    .dataframe thead th {\n",
       "        text-align: right;\n",
       "    }\n",
       "</style>\n",
       "<table border=\"1\" class=\"dataframe\">\n",
       "  <thead>\n",
       "    <tr style=\"text-align: right;\">\n",
       "      <th></th>\n",
       "      <th>Survived</th>\n",
       "      <th>Pclass</th>\n",
       "      <th>Sex</th>\n",
       "      <th>Age</th>\n",
       "      <th>Siblings/Spouses Aboard</th>\n",
       "      <th>Parents/Children Aboard</th>\n",
       "      <th>Fare</th>\n",
       "    </tr>\n",
       "    <tr>\n",
       "      <th>Name</th>\n",
       "      <th></th>\n",
       "      <th></th>\n",
       "      <th></th>\n",
       "      <th></th>\n",
       "      <th></th>\n",
       "      <th></th>\n",
       "      <th></th>\n",
       "    </tr>\n",
       "  </thead>\n",
       "  <tbody>\n",
       "    <tr>\n",
       "      <th>Mr. Owen Harris Braund</th>\n",
       "      <td>0</td>\n",
       "      <td>3</td>\n",
       "      <td>male</td>\n",
       "      <td>22.0</td>\n",
       "      <td>1</td>\n",
       "      <td>0</td>\n",
       "      <td>7.2500</td>\n",
       "    </tr>\n",
       "    <tr>\n",
       "      <th>Mrs. John Bradley (Florence Briggs Thayer) Cumings</th>\n",
       "      <td>1</td>\n",
       "      <td>1</td>\n",
       "      <td>female</td>\n",
       "      <td>38.0</td>\n",
       "      <td>1</td>\n",
       "      <td>0</td>\n",
       "      <td>71.2833</td>\n",
       "    </tr>\n",
       "    <tr>\n",
       "      <th>Miss. Laina Heikkinen</th>\n",
       "      <td>1</td>\n",
       "      <td>3</td>\n",
       "      <td>female</td>\n",
       "      <td>26.0</td>\n",
       "      <td>0</td>\n",
       "      <td>0</td>\n",
       "      <td>7.9250</td>\n",
       "    </tr>\n",
       "    <tr>\n",
       "      <th>Mrs. Jacques Heath (Lily May Peel) Futrelle</th>\n",
       "      <td>1</td>\n",
       "      <td>1</td>\n",
       "      <td>female</td>\n",
       "      <td>35.0</td>\n",
       "      <td>1</td>\n",
       "      <td>0</td>\n",
       "      <td>53.1000</td>\n",
       "    </tr>\n",
       "    <tr>\n",
       "      <th>Mr. William Henry Allen</th>\n",
       "      <td>0</td>\n",
       "      <td>3</td>\n",
       "      <td>male</td>\n",
       "      <td>35.0</td>\n",
       "      <td>0</td>\n",
       "      <td>0</td>\n",
       "      <td>8.0500</td>\n",
       "    </tr>\n",
       "    <tr>\n",
       "      <th>...</th>\n",
       "      <td>...</td>\n",
       "      <td>...</td>\n",
       "      <td>...</td>\n",
       "      <td>...</td>\n",
       "      <td>...</td>\n",
       "      <td>...</td>\n",
       "      <td>...</td>\n",
       "    </tr>\n",
       "    <tr>\n",
       "      <th>Rev. Juozas Montvila</th>\n",
       "      <td>0</td>\n",
       "      <td>2</td>\n",
       "      <td>male</td>\n",
       "      <td>27.0</td>\n",
       "      <td>0</td>\n",
       "      <td>0</td>\n",
       "      <td>13.0000</td>\n",
       "    </tr>\n",
       "    <tr>\n",
       "      <th>Miss. Margaret Edith Graham</th>\n",
       "      <td>1</td>\n",
       "      <td>1</td>\n",
       "      <td>female</td>\n",
       "      <td>19.0</td>\n",
       "      <td>0</td>\n",
       "      <td>0</td>\n",
       "      <td>30.0000</td>\n",
       "    </tr>\n",
       "    <tr>\n",
       "      <th>Miss. Catherine Helen Johnston</th>\n",
       "      <td>0</td>\n",
       "      <td>3</td>\n",
       "      <td>female</td>\n",
       "      <td>7.0</td>\n",
       "      <td>1</td>\n",
       "      <td>2</td>\n",
       "      <td>23.4500</td>\n",
       "    </tr>\n",
       "    <tr>\n",
       "      <th>Mr. Karl Howell Behr</th>\n",
       "      <td>1</td>\n",
       "      <td>1</td>\n",
       "      <td>male</td>\n",
       "      <td>26.0</td>\n",
       "      <td>0</td>\n",
       "      <td>0</td>\n",
       "      <td>30.0000</td>\n",
       "    </tr>\n",
       "    <tr>\n",
       "      <th>Mr. Patrick Dooley</th>\n",
       "      <td>0</td>\n",
       "      <td>3</td>\n",
       "      <td>male</td>\n",
       "      <td>32.0</td>\n",
       "      <td>0</td>\n",
       "      <td>0</td>\n",
       "      <td>7.7500</td>\n",
       "    </tr>\n",
       "  </tbody>\n",
       "</table>\n",
       "<p>887 rows × 7 columns</p>\n",
       "</div>"
      ],
      "text/plain": [
       "                                                    Survived  Pclass     Sex  \\\n",
       "Name                                                                           \n",
       "Mr. Owen Harris Braund                                     0       3    male   \n",
       "Mrs. John Bradley (Florence Briggs Thayer) Cumings         1       1  female   \n",
       "Miss. Laina Heikkinen                                      1       3  female   \n",
       "Mrs. Jacques Heath (Lily May Peel) Futrelle                1       1  female   \n",
       "Mr. William Henry Allen                                    0       3    male   \n",
       "...                                                      ...     ...     ...   \n",
       "Rev. Juozas Montvila                                       0       2    male   \n",
       "Miss. Margaret Edith Graham                                1       1  female   \n",
       "Miss. Catherine Helen Johnston                             0       3  female   \n",
       "Mr. Karl Howell Behr                                       1       1    male   \n",
       "Mr. Patrick Dooley                                         0       3    male   \n",
       "\n",
       "                                                     Age  \\\n",
       "Name                                                       \n",
       "Mr. Owen Harris Braund                              22.0   \n",
       "Mrs. John Bradley (Florence Briggs Thayer) Cumings  38.0   \n",
       "Miss. Laina Heikkinen                               26.0   \n",
       "Mrs. Jacques Heath (Lily May Peel) Futrelle         35.0   \n",
       "Mr. William Henry Allen                             35.0   \n",
       "...                                                  ...   \n",
       "Rev. Juozas Montvila                                27.0   \n",
       "Miss. Margaret Edith Graham                         19.0   \n",
       "Miss. Catherine Helen Johnston                       7.0   \n",
       "Mr. Karl Howell Behr                                26.0   \n",
       "Mr. Patrick Dooley                                  32.0   \n",
       "\n",
       "                                                    Siblings/Spouses Aboard  \\\n",
       "Name                                                                          \n",
       "Mr. Owen Harris Braund                                                    1   \n",
       "Mrs. John Bradley (Florence Briggs Thayer) Cumings                        1   \n",
       "Miss. Laina Heikkinen                                                     0   \n",
       "Mrs. Jacques Heath (Lily May Peel) Futrelle                               1   \n",
       "Mr. William Henry Allen                                                   0   \n",
       "...                                                                     ...   \n",
       "Rev. Juozas Montvila                                                      0   \n",
       "Miss. Margaret Edith Graham                                               0   \n",
       "Miss. Catherine Helen Johnston                                            1   \n",
       "Mr. Karl Howell Behr                                                      0   \n",
       "Mr. Patrick Dooley                                                        0   \n",
       "\n",
       "                                                    Parents/Children Aboard  \\\n",
       "Name                                                                          \n",
       "Mr. Owen Harris Braund                                                    0   \n",
       "Mrs. John Bradley (Florence Briggs Thayer) Cumings                        0   \n",
       "Miss. Laina Heikkinen                                                     0   \n",
       "Mrs. Jacques Heath (Lily May Peel) Futrelle                               0   \n",
       "Mr. William Henry Allen                                                   0   \n",
       "...                                                                     ...   \n",
       "Rev. Juozas Montvila                                                      0   \n",
       "Miss. Margaret Edith Graham                                               0   \n",
       "Miss. Catherine Helen Johnston                                            2   \n",
       "Mr. Karl Howell Behr                                                      0   \n",
       "Mr. Patrick Dooley                                                        0   \n",
       "\n",
       "                                                       Fare  \n",
       "Name                                                         \n",
       "Mr. Owen Harris Braund                               7.2500  \n",
       "Mrs. John Bradley (Florence Briggs Thayer) Cumings  71.2833  \n",
       "Miss. Laina Heikkinen                                7.9250  \n",
       "Mrs. Jacques Heath (Lily May Peel) Futrelle         53.1000  \n",
       "Mr. William Henry Allen                              8.0500  \n",
       "...                                                     ...  \n",
       "Rev. Juozas Montvila                                13.0000  \n",
       "Miss. Margaret Edith Graham                         30.0000  \n",
       "Miss. Catherine Helen Johnston                      23.4500  \n",
       "Mr. Karl Howell Behr                                30.0000  \n",
       "Mr. Patrick Dooley                                   7.7500  \n",
       "\n",
       "[887 rows x 7 columns]"
      ]
     },
     "execution_count": 42,
     "metadata": {},
     "output_type": "execute_result"
    }
   ],
   "source": [
    "import pandas as pd\n",
    "import matplotlib.pyplot as plt\n",
    "df = pd.read_csv('titanic.csv', index_col=2)\n",
    "df"
   ]
  },
  {
   "cell_type": "markdown",
   "id": "4ae4f075",
   "metadata": {},
   "source": [
    "Apartir de la columna 'Age' resolveremos los siguientes 3 incisos:\n"
   ]
  },
  {
   "cell_type": "markdown",
   "id": "6440f3cc",
   "metadata": {},
   "source": [
    "a) Realizaremos un histograma de frecuencia para la variable edad.\n"
   ]
  },
  {
   "cell_type": "code",
   "execution_count": 43,
   "id": "2b6c4c39",
   "metadata": {},
   "outputs": [
    {
     "data": {
      "text/plain": [
       "<function matplotlib.pyplot.show(close=None, block=None)>"
      ]
     },
     "execution_count": 43,
     "metadata": {},
     "output_type": "execute_result"
    },
    {
     "data": {
      "image/png": "[encoded data removed]",
      "text/plain": [
       "<Figure size 640x480 with 1 Axes>"
      ]
     },
     "metadata": {},
     "output_type": "display_data"
    }
   ],
   "source": [
    "plt.hist(df['Age'])\n",
    "plt.xlabel('Edad')\n",
    "plt.ylabel('Frecuencia')\n",
    "plt.title('Histograma de Edad')\n",
    "plt.show"
   ]
  },
  {
   "cell_type": "markdown",
   "id": "bf728703",
   "metadata": {},
   "source": [
    "b) Diagrama de caja para la variable 'Age'"
   ]
  },
  {
   "cell_type": "code",
   "execution_count": 44,
   "id": "8b193607",
   "metadata": {},
   "outputs": [
    {
     "data": {
      "image/png": "[encoded data removed]",
      "text/plain": [
       "<Figure size 640x480 with 1 Axes>"
      ]
     },
     "metadata": {},
     "output_type": "display_data"
    }
   ],
   "source": [
    "plt.boxplot(df['Age'])\n",
    "plt.xlabel('Edad')\n",
    "plt.title('BoxPlot Edad')\n",
    "plt.show()\n"
   ]
  },
  {
   "cell_type": "markdown",
   "id": "09c1d0ce",
   "metadata": {},
   "source": [
    "En el histograma podemos observar una tendencia positiva, donde la mayor concentración de valores se encuentra entre 20 y 40 años. Esto se confirma realizando el diagrama de caja, donde de nuevo vemos la concentración de datos entre 20 y 40, y algunos datos dispersos arriba de 60."
   ]
  },
  {
   "cell_type": "markdown",
   "id": "858d0a9c",
   "metadata": {},
   "source": [
    "c) Un gráfico que muestre el número de pasajeros de cada clase variable 'Pclass'"
   ]
  },
  {
   "cell_type": "code",
   "execution_count": 45,
   "id": "1bfda3b9",
   "metadata": {},
   "outputs": [
    {
     "data": {
      "image/png": "[encoded data removed]",
      "text/plain": [
       "<Figure size 640x480 with 1 Axes>"
      ]
     },
     "metadata": {},
     "output_type": "display_data"
    }
   ],
   "source": [
    "num_pclase = df['Pclass'].value_counts()\n",
    "plt.bar(num_pclase.index, num_pclase.values)\n",
    "plt.xlabel('Clase')\n",
    "plt.ylabel('Número de pasajeros')\n",
    "plt.title('# de Pasajeros por Clase')\n",
    "plt.show()"
   ]
  },
  {
   "cell_type": "markdown",
   "id": "3fbfc96b",
   "metadata": {},
   "source": [
    "En este gráfico podemos observar que el mayor número de pasajeros pertenecía a la clase 3, seguido de la clase 1 por una mínima diferencia arriba de la clase 2.\n"
   ]
  },
  {
   "cell_type": "code",
   "execution_count": null,
   "id": "d1c087a8",
   "metadata": {},
   "outputs": [],
   "source": []
  }
 ],
 "metadata": {
  "kernelspec": {
   "display_name": "Python 3 (ipykernel)",
   "language": "python",
   "name": "python3"
  },
  "language_info": {
   "codemirror_mode": {
    "name": "ipython",
    "version": 3
   },
   "file_extension": ".py",
   "mimetype": "text/x-python",
   "name": "python",
   "nbconvert_exporter": "python",
   "pygments_lexer": "ipython3",
   "version": "3.10.9"
  }
 },
 "nbformat": 4,
 "nbformat_minor": 5
}
